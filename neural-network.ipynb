{
 "cells": [
  {
   "cell_type": "code",
   "execution_count": 2,
   "id": "fc39893b",
   "metadata": {},
   "outputs": [],
   "source": [
    "import numpy\n",
    "import scipy.special\n",
    "import matplotlib.pyplot\n",
    "%matplotlib inline"
   ]
  },
  {
   "cell_type": "code",
   "execution_count": 3,
   "id": "d1ffdb9f",
   "metadata": {},
   "outputs": [],
   "source": [
    "# определние класса нейронной сети\n",
    "class neuralNetwork:\n",
    "    \n",
    "    # инициализировать нейронную сеть\n",
    "    def __init__(self, inputnodes, hiddennodes, outputnodes, learningrate):\n",
    "        # задать количество узлов входном скрытом и выходном слоях\n",
    "        self.inodes = inputnodes\n",
    "        self.hnodes = hiddennodes\n",
    "        self.onodes = outputnodes\n",
    "        \n",
    "        # Матрицы весовых коэффицентов связей wih (между входным и скрытым слоями) и who (между скрытым и выходным слоями).\n",
    "        # весовые коэффиценты связей между узлом i и узлом j следующего слоя обозначены как w_i_j:\n",
    "        # w11 w21\n",
    "        # w12 w22 и т.д.\n",
    "        self.wih = numpy.random.normal(0.0, pow(self.hnodes, -0.5), (self.hnodes, self.inodes))\n",
    "        self.who = numpy.random.normal(0.0, pow(self.onodes, -0.5), (self.onodes, self.hnodes))\n",
    "\n",
    "        # коэффицент обучения\n",
    "        self.lr = learningrate\n",
    "        \n",
    "        # использование сигмоиды в качестве функции активации\n",
    "        self.activation_function = lambda x: scipy.special.expit(x)\n",
    "        pass\n",
    "        \n",
    "    # тренировка нейронной сети\n",
    "    def train(self, inputs_list, targets_list):\n",
    "        # преобразовать список входных значений в двумерный массив\n",
    "        inputs = numpy.array(inputs_list, ndmin = 2).T\n",
    "        targets = numpy.array(targets_list, ndmin = 2).T\n",
    "        \n",
    "        # рассчитать входящие сигналы для скрытого слоя\n",
    "        hidden_inputs = numpy.dot(self.wih, inputs)\n",
    "        # рассчитать исходящие сигналы для скрытого слоя\n",
    "        hidden_outputs = self.activation_function(hidden_inputs)\n",
    "        \n",
    "        # рассчитать входные сигналы для выходного слоя\n",
    "        final_inputs = numpy.dot(self.who, hidden_outputs)\n",
    "        # рассчитать исходящие сигналы для выходного слоя\n",
    "        final_outputs = self.activation_function(final_inputs)\n",
    "        \n",
    "        # ошибки выходного слоя =\n",
    "        # (целевое значение - фактическое значение)\n",
    "        output_errors = targets - final_outputs\n",
    "        # ошибки скрытого слоя - это ошибки output_errors,\n",
    "        # распределение пропорцианально весовым коэффицентам связей\n",
    "        # и рекомбинированные на скрытых узлах\n",
    "        hidden_errors = numpy.dot(self.who.T, output_errors)\n",
    "        \n",
    "        # обновить весовые коэффиценты связей между скрытым и входным слоями\n",
    "        self.who += self.lr * numpy.dot((output_errors * final_outputs * (1.0 - final_outputs)), numpy.transpose(hidden_outputs))\n",
    "        \n",
    "        # обновить весовые коэффиценты связей между входным и скрытым слоями\n",
    "        self.wih += self.lr * numpy.dot((hidden_errors * hidden_outputs * (1.0 - hidden_outputs)), numpy.transpose(inputs))\n",
    "        \n",
    "        pass\n",
    "    \n",
    "    # опрос нейронной сети\n",
    "    def query(self, inputs_list):\n",
    "        # преобразовать список входных значений в двумерный массив\n",
    "        inputs = numpy.array(inputs_list, ndmin = 2).T\n",
    "        \n",
    "        # рассчитать входящие сигналы для скрытого слоя\n",
    "        hidden_inputs = numpy.dot(self.wih, inputs)\n",
    "        # рассчитать исходящие сигналы для скрытого слоя\n",
    "        hidden_outputs = self.activation_function(hidden_inputs)\n",
    "        \n",
    "        # рассчитать входные сигналы для выходного слоя\n",
    "        final_inputs = numpy.dot(self.who, hidden_outputs)\n",
    "        # рассчитать исходящие сигналы для выходного слоя\n",
    "        final_outputs = self.activation_function(final_inputs)\n",
    "        return final_outputs"
   ]
  },
  {
   "cell_type": "code",
   "execution_count": 4,
   "id": "ceccc7ae",
   "metadata": {},
   "outputs": [],
   "source": [
    "# количество входных, скрытых и выходных узлов\n",
    "input_nodes = 784\n",
    "hidden_nodes = 100\n",
    "output_nodes = 10\n",
    "\n",
    "# коэффицент обучения равен 0,3\n",
    "learning_rate = 0.3\n",
    "\n",
    "# создать экземпляр нейронной сети\n",
    "n = neuralNetwork(input_nodes, hidden_nodes, output_nodes, learning_rate)"
   ]
  },
  {
   "cell_type": "code",
   "execution_count": 5,
   "id": "e8051bf9",
   "metadata": {},
   "outputs": [],
   "source": [
    "# загрузить в список тестовый набор данных CSV-файла набора MNIST\n",
    "training_data_file = open('mnist_dataset/mnist_train_100.csv', 'r')\n",
    "training_data_list = training_data_file.readlines()\n",
    "training_data_file.close()"
   ]
  },
  {
   "cell_type": "code",
   "execution_count": 6,
   "id": "506ff434",
   "metadata": {
    "scrolled": true
   },
   "outputs": [],
   "source": [
    "# тренировка нейронной сети\n",
    "\n",
    "# перебрать все записи в тренировочном наборе данных\n",
    "for record in training_data_list:\n",
    "    # получить список значений, используя символы запятой (',')\n",
    "    # в качестве разделителей\n",
    "    all_values = record.split(',')\n",
    "    # масштабировать и сместить входные значения\n",
    "    inputs = (numpy.asfarray(all_values[1:]) / 255.0 * 0.99) + 0.01\n",
    "    # создать целевые входные значения (все равны 0,01, за исключением\n",
    "    # желаемого маркерного значения, равноого 0,99)\n",
    "    targets = numpy.zeros(output_nodes) + 0.01\n",
    "    \n",
    "    # all_values[0] - целевое маркерное значение для данной записи\n",
    "    targets[int(all_values[0])] = 0.99\n",
    "    n.train(inputs, targets)\n",
    "    pass"
   ]
  },
  {
   "cell_type": "code",
   "execution_count": 7,
   "id": "f7e2cc6c",
   "metadata": {},
   "outputs": [],
   "source": [
    "# загрузить в список тестовый набор данных CSV-файла набора MNIST\n",
    "test_data_file = open('mnist_dataset/mnist_test_10.csv', 'r')\n",
    "test_data_list = test_data_file.readlines()\n",
    "test_data_file.close()"
   ]
  },
  {
   "cell_type": "code",
   "execution_count": 8,
   "id": "70083036",
   "metadata": {},
   "outputs": [
    {
     "name": "stdout",
     "output_type": "stream",
     "text": [
      "7\n"
     ]
    }
   ],
   "source": [
    "# получить первую тестовую запись\n",
    "all_values = test_data_list[0].split(',')\n",
    "# вывести маркер\n",
    "print(all_values[0])"
   ]
  },
  {
   "cell_type": "code",
   "execution_count": 9,
   "id": "729a25ac",
   "metadata": {},
   "outputs": [
    {
     "data": {
      "text/plain": [
       "<matplotlib.image.AxesImage at 0x195f3d98d30>"
      ]
     },
     "execution_count": 9,
     "metadata": {},
     "output_type": "execute_result"
    },
    {
     "data": {
      "image/png": "[encoded data removed]",
      "text/plain": [
       "<Figure size 432x288 with 1 Axes>"
      ]
     },
     "metadata": {
      "needs_background": "light"
     },
     "output_type": "display_data"
    }
   ],
   "source": [
    "image_array = numpy.asfarray(all_values[1:]).reshape((28, 28))\n",
    "matplotlib.pyplot.imshow(image_array, cmap = 'Greys', interpolation = \"None\")"
   ]
  },
  {
   "cell_type": "code",
   "execution_count": 10,
   "id": "e430cac4",
   "metadata": {},
   "outputs": [
    {
     "data": {
      "text/plain": [
       "array([[0.07553732],\n",
       "       [0.00595509],\n",
       "       [0.0137085 ],\n",
       "       [0.06179318],\n",
       "       [0.07776482],\n",
       "       [0.02490442],\n",
       "       [0.01060535],\n",
       "       [0.83064063],\n",
       "       [0.07109294],\n",
       "       [0.02497667]])"
      ]
     },
     "execution_count": 10,
     "metadata": {},
     "output_type": "execute_result"
    }
   ],
   "source": [
    "n.query((numpy.asfarray(all_values[1:]) / 255.0 * 0.99) + 0.01)"
   ]
  },
  {
   "cell_type": "code",
   "execution_count": 11,
   "id": "85c0f221",
   "metadata": {},
   "outputs": [
    {
     "name": "stdout",
     "output_type": "stream",
     "text": [
      "7 истинный маркер\n",
      "7 ответ сети\n",
      "\n",
      "2 истинный маркер\n",
      "2 ответ сети\n",
      "\n",
      "1 истинный маркер\n",
      "1 ответ сети\n",
      "\n",
      "0 истинный маркер\n",
      "0 ответ сети\n",
      "\n",
      "4 истинный маркер\n",
      "4 ответ сети\n",
      "\n",
      "1 истинный маркер\n",
      "1 ответ сети\n",
      "\n",
      "4 истинный маркер\n",
      "4 ответ сети\n",
      "\n",
      "9 истинный маркер\n",
      "3 ответ сети\n",
      "\n",
      "5 истинный маркер\n",
      "4 ответ сети\n",
      "\n",
      "9 истинный маркер\n",
      "7 ответ сети\n",
      "\n"
     ]
    }
   ],
   "source": [
    "# тестирование нейронной сети\n",
    "\n",
    "# журнал оценок работы сети первоначально пустой\n",
    "scorecard = []\n",
    "\n",
    "# перебрать все записи в тестовом наборе данных\n",
    "for record in test_data_list:\n",
    "    # получить список значений из записи, используя символы\n",
    "    # запятой (',') в качестве разделителей\n",
    "    all_values = record.split(',')\n",
    "    # правильный ответ - первое значение\n",
    "    correct_label = int(all_values[0])\n",
    "    print(correct_label, 'истинный маркер')\n",
    "    # масштабировать и сместить входные значения\n",
    "    inputs = (numpy.asfarray(all_values[1:]) / 255.0 * 0.99) + 0.01\n",
    "    # опрос сети\n",
    "    outputs = n.query(inputs)\n",
    "    # индекс наибольшего значения является маркерным значением\n",
    "    label = numpy.argmax(outputs)\n",
    "    print(label, 'ответ сети\\n')\n",
    "    # присоеденить оценку ответа сети к концу списка\n",
    "    if (label == correct_label):\n",
    "        # в случае правильного ответа сети присоеденить\n",
    "        # к списку значение 1\n",
    "        scorecard.append(1)\n",
    "    else:\n",
    "        # в случае неправильного ответа сети присоеденить\n",
    "        # к списку значение 0\n",
    "        scorecard.append(0)\n",
    "        pass\n",
    "    pass\n",
    "            "
   ]
  },
  {
   "cell_type": "code",
   "execution_count": 32,
   "id": "5ceb19a7",
   "metadata": {},
   "outputs": [
    {
     "name": "stdout",
     "output_type": "stream",
     "text": [
      "[1, 0, 1, 1, 1, 1, 1, 0, 0, 0]\n"
     ]
    }
   ],
   "source": [
    "print(scorecard)"
   ]
  },
  {
   "cell_type": "code",
   "execution_count": 33,
   "id": "b8c2b5d0",
   "metadata": {},
   "outputs": [
    {
     "name": "stdout",
     "output_type": "stream",
     "text": [
      "\n",
      "эффективность = 0.6\n"
     ]
    }
   ],
   "source": [
    "# рассчитать показатель эффективности в виде\n",
    "# доли правильных ответов\n",
    "scorecard_array = numpy.asarray(scorecard)\n",
    "print('\\nэффективность =', scorecard_array.sum() / scorecard_array.size)"
   ]
  }
 ],
 "metadata": {
  "kernelspec": {
   "display_name": "Python 3 (ipykernel)",
   "language": "python",
   "name": "python3"
  },
  "language_info": {
   "codemirror_mode": {
    "name": "ipython",
    "version": 3
   },
   "file_extension": ".py",
   "mimetype": "text/x-python",
   "name": "python",
   "nbconvert_exporter": "python",
   "pygments_lexer": "ipython3",
   "version": "3.9.12"
  }
 },
 "nbformat": 4,
 "nbformat_minor": 5
}
